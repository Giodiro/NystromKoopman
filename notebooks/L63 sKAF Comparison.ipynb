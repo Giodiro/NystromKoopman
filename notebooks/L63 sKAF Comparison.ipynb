{
 "cells": [
  {
   "cell_type": "code",
   "execution_count": 1,
   "id": "4962e419",
   "metadata": {},
   "outputs": [],
   "source": [
    "%load_ext autoreload\n",
    "%autoreload 2"
   ]
  },
  {
   "cell_type": "code",
   "execution_count": 2,
   "id": "a3bae281",
   "metadata": {},
   "outputs": [
    {
     "name": "stdout",
     "output_type": "stream",
     "text": [
      "[KeOps] Warning : Cuda libraries were not detected on the system or could not be loaded ; using cpu only mode\n"
     ]
    }
   ],
   "source": [
    "import math\n",
    "import numpy as np\n",
    "import torch\n",
    "from pathlib import Path\n",
    "import sys\n",
    "import time\n",
    "sys.path.append(\"..\")\n",
    "\n",
    "import pandas as pd\n",
    "import matplotlib.pyplot as plt\n",
    "from tqdm import tqdm\n",
    "\n",
    "from falkon.kernels import GaussianKernel\n",
    "from falkon import FalkonOptions\n",
    "from nyskoop.data.lorenz import Lorenz63\n",
    "from experiment_helpers import *"
   ]
  },
  {
   "cell_type": "code",
   "execution_count": 3,
   "id": "e57387f9",
   "metadata": {},
   "outputs": [],
   "source": [
    "set_matplotlib_rc()"
   ]
  },
  {
   "cell_type": "code",
   "execution_count": 4,
   "id": "ae977ccc",
   "metadata": {},
   "outputs": [],
   "source": [
    "def gen_l63_fulldata(n_train: int, n_test: int, num_test_sets: int, max_q: int, **kwargs):\n",
    "    lorenz63_dset = Lorenz63(1, 1, 1, sigma=10, rho=28, beta=8/3, **kwargs)\n",
    "    n_steps = calc_lagged_num_steps(n_train, n_test, num_test_sets, max_q)\n",
    "    full_data = lorenz63_dset.solve(n_steps)\n",
    "    full_data = torch.from_numpy(full_data)\n",
    "    return full_data"
   ]
  },
  {
   "cell_type": "code",
   "execution_count": 5,
   "id": "840250b2",
   "metadata": {},
   "outputs": [],
   "source": [
    "def calc_est_error(X_train, Y_train, all_test_sets, kind, **kwargs):\n",
    "    t_start = time.time()\n",
    "    est = train_est(X_train, Y_train, kind=kind, **kwargs)\n",
    "    t_end = time.time()\n",
    "    err, std = nrmse(est, all_test_sets, variable=0)\n",
    "    return err.item(), std.item(), t_end - t_start"
   ]
  },
  {
   "cell_type": "code",
   "execution_count": 6,
   "id": "e522a1d3",
   "metadata": {},
   "outputs": [],
   "source": [
    "n_train, n_test = 10_000, 10_000\n",
    "num_test_sets = 5\n",
    "l63_version = 'normal'\n",
    "max_q = 400\n",
    "q_step = 5\n",
    "dt = 0.01\n",
    "sigma = 7\n",
    "num_components = 50\n",
    "dtype = torch.float64\n",
    "M = 250\n",
    "\n",
    "full_data = gen_l63_fulldata(\n",
    "    n_train, n_test, num_test_sets, max_q=max_q, dt=dt, burnin=5, l63_version=l63_version)"
   ]
  },
  {
   "cell_type": "code",
   "execution_count": 34,
   "id": "01400479",
   "metadata": {},
   "outputs": [],
   "source": [
    "opt = FalkonOptions(use_cpu=True)\n",
    "output_path = Path(\"../analysis_outputs/skaf_comparison/\")\n",
    "output_path.mkdir(exist_ok=True, parents=True)\n",
    "\n",
    "model_params = {\n",
    "    \"pcr\": {\n",
    "        \"num_components\": num_components,\n",
    "        \"kernel\": GaussianKernel(sigma, opt=opt),\n",
    "        \"M\": M,\n",
    "        \"svd_solver\": \"full\",\n",
    "    },\n",
    "    \"fastpcr\": {\n",
    "        \"num_components\": num_components,\n",
    "        \"kernel\": GaussianKernel(sigma, opt=opt),\n",
    "        \"M\": M,\n",
    "        \"n_iter\": 1,\n",
    "        \"oversampling\": 2,\n",
    "    },\n",
    "    \"rrr\": {\n",
    "        \"num_components\": num_components,\n",
    "        \"kernel\": GaussianKernel(sigma, opt=opt),\n",
    "        \"M\": M,\n",
    "        \"penalty\": 1e-3,\n",
    "    },\n",
    "    \"fastrrr\": {\n",
    "        \"num_components\": num_components,\n",
    "        \"kernel\": GaussianKernel(sigma, opt=opt),\n",
    "        \"M\": M,\n",
    "        \"penalty\": 1e-9,\n",
    "        \"n_iter\": 1,\n",
    "        \"oversampling\": 2,\n",
    "    },\n",
    "    \"kaf_scalable\": {\n",
    "        \"sigma\": sigma,\n",
    "        \"approx_rank\": num_components,\n",
    "        \"num_features\": int(math.sqrt(n_train) * math.log(n_train)),\n",
    "        \"block_size\": 10_000,\n",
    "    }\n",
    "}\n",
    "def name_from_model(model, model_params):\n",
    "    params = model_params[model]\n",
    "    if \"kernel\" in params:\n",
    "        sigma = params[\"kernel\"].sigma.item()\n",
    "    else:\n",
    "        sigma = params[\"sigma\"]\n",
    "    if \"num_components\" in params:\n",
    "        rank = params[\"num_components\"]\n",
    "    else:\n",
    "        rank = params[\"approx_rank\"]\n",
    "    name = f\"{model}_s{sigma}_r{rank}\"\n",
    "    if \"M\" in params:\n",
    "        name += f\"_M{params['M']}\"\n",
    "    if \"penalty\" in params:\n",
    "        name += f\"_pen{params['penalty']}\"\n",
    "    return f\"{name}\""
   ]
  },
  {
   "cell_type": "markdown",
   "id": "594b9ffe",
   "metadata": {},
   "source": [
    "### Run experiment"
   ]
  },
  {
   "cell_type": "code",
   "execution_count": 35,
   "id": "43f511f7",
   "metadata": {
    "scrolled": true
   },
   "outputs": [
    {
     "name": "stdout",
     "output_type": "stream",
     "text": [
      "Will save df to ../analysis_outputs/skaf_comparison/rrr_s7.0_r50_M250_pen0.001.csv\n"
     ]
    },
    {
     "name": "stderr",
     "output_type": "stream",
     "text": [
      "Varying q: RRR:   8%|███████▉                                                                                                 | 6/80 [00:00<00:10,  7.04it/s]/home/giacomo/koopmannystroem/nyskoop/notebooks/../estimators/nys_rrr.py:76: UserWarning: Computed projector is not real. The Kernel matrix is either severely ill conditioned or non-symmetric, discarding imaginary parts.\n",
      "  warnings.warn(\n",
      "Varying q: RRR: 100%|████████████████████████████████████████████████████████████████████████████████████████████████████████| 80/80 [00:10<00:00,  7.31it/s]\n"
     ]
    },
    {
     "name": "stdout",
     "output_type": "stream",
     "text": [
      "Saved df to ../analysis_outputs/skaf_comparison/rrr_s7.0_r50_M250_pen0.001.csv\n",
      "Will save df to ../analysis_outputs/skaf_comparison/pcr_s7.0_r50_M250.csv\n"
     ]
    },
    {
     "name": "stderr",
     "output_type": "stream",
     "text": [
      "Varying q: PCR: 100%|████████████████████████████████████████████████████████████████████████████████████████████████████████| 80/80 [00:06<00:00, 12.29it/s]\n"
     ]
    },
    {
     "name": "stdout",
     "output_type": "stream",
     "text": [
      "Saved df to ../analysis_outputs/skaf_comparison/pcr_s7.0_r50_M250.csv\n",
      "Will save df to ../analysis_outputs/skaf_comparison/kaf_scalable_s7_r50.csv\n"
     ]
    },
    {
     "name": "stderr",
     "output_type": "stream",
     "text": [
      "Varying q: KAF_SCALABLE: 100%|███████████████████████████████████████████████████████████████████████████████████████████████| 80/80 [03:04<00:00,  2.31s/it]"
     ]
    },
    {
     "name": "stdout",
     "output_type": "stream",
     "text": [
      "Saved df to ../analysis_outputs/skaf_comparison/kaf_scalable_s7_r50.csv\n"
     ]
    },
    {
     "name": "stderr",
     "output_type": "stream",
     "text": [
      "\n"
     ]
    }
   ],
   "source": [
    "qs = np.arange(1, max_q, q_step)\n",
    "\n",
    "for model in [\"rrr\", \"pcr\", \"kaf_scalable\"]:#\"pcr\", \"fastpcr\", \"rrr\", \"fastrrr\", \"kaf_scalable\"]:\n",
    "    df_save_path = output_path / f\"{name_from_model(model, model_params)}.csv\"\n",
    "    print(f\"Will save df to {df_save_path}\")\n",
    "    df_dict = []\n",
    "    for q in tqdm(qs, desc=f\"Varying q: {model.upper()}\"):\n",
    "        X_train, Y_train, all_test_sets = gen_lagged(\n",
    "            full_data, n_train, n_test, num_test_sets, q, dtype=dtype\n",
    "        )\n",
    "        err, std, t_elapsed = calc_est_error(\n",
    "            X_train, Y_train, all_test_sets, kind=model, **model_params[model]\n",
    "        )\n",
    "        df_dict.append(\n",
    "            dict(q=q, err=err, std=std, time=t_elapsed, kind=model) | model_params[model]\n",
    "        )\n",
    "    qerr_df = pd.DataFrame.from_dict(df_dict)\n",
    "\n",
    "    df_save_path.parent.mkdir(parents=True, exist_ok=True)\n",
    "    qerr_df.to_csv(df_save_path, index=False)\n",
    "    print(f\"Saved df to {df_save_path}\")"
   ]
  },
  {
   "cell_type": "markdown",
   "id": "aca56fd3",
   "metadata": {},
   "source": [
    "### Plot"
   ]
  },
  {
   "cell_type": "code",
   "execution_count": 40,
   "id": "95295b4d",
   "metadata": {},
   "outputs": [
    {
     "data": {
      "text/plain": [
       "Text(0, 0.5, 'Elapsed time (s)')"
      ]
     },
     "execution_count": 40,
     "metadata": {},
     "output_type": "execute_result"
    },
    {
     "data": {
      "image/png": "[encoded data removed]",
      "text/plain": [
       "<Figure size 600x290 with 2 Axes>"
      ]
     },
     "metadata": {},
     "output_type": "display_data"
    }
   ],
   "source": [
    "error_ylim = [-0.001, 1.2]\n",
    "error_xlim_buf = 15\n",
    "plot_df_paths = [\n",
    "#     [output_path / \"kaf_scalable_s7_r50.csv\", \"sKAF\", IBM_COLORS[0]],\n",
    "#     [output_path / \"rrr_s7.0_r10_M250_pen0.csv\", \"NysRRR\", IBM_COLORS[1]],\n",
    "#     [output_path / \"fastrrr_s7.0_r10_M250_pen1e-09.csv\", \"FAST NysRRR\", IBM_COLORS[2]],\n",
    "#     [output_path / \"fastpcr_s7.0_r50_M2000.csv\", \"FastPCR\", IBM_COLORS[0]],\n",
    "#     [output_path / \"pcr_s7.0_r50_M1000.csv\", \"NysPCR\", IBM_COLORS[1]],\n",
    "#     [output_path / \"rrr_s7.0_r10_M250_pen0.csv\", \"NysRRR\", IBM_COLORS[2]],\n",
    "#     [output_path / \"rrr_s7.0_r10_M250_pen1e-09.csv\", \"FastRRR\", IBM_COLORS[3]],\n",
    "    [output_path / \"kaf_scalable_s3.5_r50.csv\", \"sKAF\", IBM_COLORS[0]],\n",
    "    [output_path / \"rrr_s3.5_r50_M250_pen0.001.csv\", \"NysRRR\", IBM_COLORS[1]],\n",
    "    [output_path / \"pcr_s3.5_r50_M250.csv\", \"NysPCR\", IBM_COLORS[2]],\n",
    "#     [output_path / \"fastpcr_s3.5_r50_M250.csv\", \"FastPCR\", IBM_COLORS[1]],\n",
    "#     [output_path / \"fastrrr_s3.5_r50_M250_pen1e-09.csv\", \"FastRRR\", IBM_COLORS[3]],\n",
    "]\n",
    "for plot_desc in plot_df_paths:\n",
    "    plot_desc[0] = pd.read_csv(plot_desc[0])\n",
    "\n",
    "fig, (ax1, ax2) = plt.subplots(1, 2, width_ratios=[2.8, 1], figsize=(6, 2.9), constrained_layout=True)\n",
    "\n",
    "stop_after_q_idx = 80\n",
    "\n",
    "stop_after_q = 0\n",
    "for i, (df, label, c) in enumerate(plot_df_paths):\n",
    "    ax1.plot(df['q'][:stop_after_q_idx], df['err'][:stop_after_q_idx], label=label, color=c, lw=2)\n",
    "    ax1.fill_between(\n",
    "        df['q'][:stop_after_q_idx], \n",
    "        df['err'][:stop_after_q_idx] - df['std'][:stop_after_q_idx], \n",
    "        df['err'][:stop_after_q_idx] + df['std'][:stop_after_q_idx], \n",
    "        alpha=0.3, color=c)\n",
    "    stop_after_q = max(stop_after_q, df['q'][:stop_after_q_idx].max())\n",
    "ax1.set_xlabel(\"Forecast time (s)\")\n",
    "ax1.set_ylabel(\"nRMSE\")\n",
    "ax1.set_ylim(error_ylim)\n",
    "ax1.set_xticks(ax1.get_xticks(), [f\"{int(t / 100):d}\" for t in ax1.get_xticks()])\n",
    "ax1.set_xlim([0 - error_xlim_buf, stop_after_q + error_xlim_buf])\n",
    "ax1.legend(loc='best')\n",
    "ax1.grid(axis='y')\n",
    "\n",
    "plot_times = [plot_desc[0]['time'] for plot_desc in plot_df_paths]\n",
    "\n",
    "box = ax2.boxplot(plot_times, whis=[5, 95], widths=0.9, showfliers=False, notch=True, patch_artist=True)\n",
    "for i, patch in enumerate(box['boxes']):\n",
    "    plt.setp(patch, color=plot_df_paths[i][2])\n",
    "for i, patch in enumerate(box['medians']):\n",
    "    plt.setp(patch, color='k')\n",
    "ax2.set_xticklabels([plot_desc[1] for plot_desc in plot_df_paths], rotation=45, ha='center')\n",
    "ax2.set_ylabel(\"Elapsed time (s)\")\n",
    "# fig.savefig(output_path / \"kaf_vs_rrr_vs_pcr.png\", dpi=300)"
   ]
  },
  {
   "cell_type": "code",
   "execution_count": null,
   "id": "ae614a76",
   "metadata": {},
   "outputs": [],
   "source": []
  }
 ],
 "metadata": {
  "kernelspec": {
   "display_name": "Python 3 (ipykernel)",
   "language": "python",
   "name": "python3"
  },
  "language_info": {
   "codemirror_mode": {
    "name": "ipython",
    "version": 3
   },
   "file_extension": ".py",
   "mimetype": "text/x-python",
   "name": "python",
   "nbconvert_exporter": "python",
   "pygments_lexer": "ipython3",
   "version": "3.10.10"
  },
  "toc": {
   "base_numbering": 1,
   "nav_menu": {},
   "number_sections": true,
   "sideBar": true,
   "skip_h1_title": false,
   "title_cell": "Table of Contents",
   "title_sidebar": "Contents",
   "toc_cell": false,
   "toc_position": {},
   "toc_section_display": true,
   "toc_window_display": false
  }
 },
 "nbformat": 4,
 "nbformat_minor": 5
}