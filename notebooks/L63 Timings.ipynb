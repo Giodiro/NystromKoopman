{
 "cells": [
  {
   "cell_type": "code",
   "execution_count": 1,
   "id": "cf4673d1",
   "metadata": {},
   "outputs": [],
   "source": [
    "%load_ext autoreload\n",
    "%autoreload 2"
   ]
  },
  {
   "cell_type": "code",
   "execution_count": 4,
   "id": "35ea1c3a",
   "metadata": {},
   "outputs": [],
   "source": [
    "import sys\n",
    "sys.path.append(\"..\")\n",
    "import time\n",
    "import warnings\n",
    "from pathlib import Path\n",
    "from copy import copy\n",
    "\n",
    "import pandas as pd\n",
    "import matplotlib.pyplot as plt\n",
    "from tqdm import tqdm\n",
    "import numpy as np\n",
    "import torch\n",
    "\n",
    "from falkon.kernels import GaussianKernel\n",
    "from falkon import FalkonOptions\n",
    "from nyskoop.data.lorenz import Lorenz63\n",
    "from experiment_helpers import *"
   ]
  },
  {
   "cell_type": "code",
   "execution_count": 5,
   "id": "c2c4599a",
   "metadata": {},
   "outputs": [],
   "source": [
    "set_matplotlib_rc(18, 20, 22)"
   ]
  },
  {
   "cell_type": "code",
   "execution_count": 6,
   "id": "fc7a6298",
   "metadata": {},
   "outputs": [],
   "source": [
    "def gen_l63_fulldata(n_train: int, n_test: int, num_test_sets: int, max_q: int, **kwargs):\n",
    "    ics = np.array([1, 1, 1])\n",
    "    lorenz63_dset = Lorenz63(ics[0], ics[1], ics[2], sigma=10, rho=28, beta=8/3, **kwargs)\n",
    "    full_data = lorenz63_dset.solve(n_train + num_test_sets * n_test + max_q * (num_test_sets + 1))\n",
    "    full_data = torch.from_numpy(full_data)\n",
    "    return full_data"
   ]
  },
  {
   "cell_type": "code",
   "execution_count": 7,
   "id": "d7262043",
   "metadata": {},
   "outputs": [],
   "source": [
    "fig_path = Path(\"outputs/timings\")\n",
    "fig_path.mkdir(exist_ok=True)"
   ]
  },
  {
   "cell_type": "markdown",
   "id": "197e2961",
   "metadata": {},
   "source": [
    "Define a few helper functions to run the experiments"
   ]
  },
  {
   "cell_type": "code",
   "execution_count": 16,
   "id": "ea073273",
   "metadata": {},
   "outputs": [],
   "source": [
    "q = 5\n",
    "num_test_sets = 5\n",
    "n_test = 2_000\n",
    "full_data = gen_l63_fulldata(\n",
    "    10_000, n_test, num_test_sets, max_q=q, dt=0.01, burnin=5, l63_version='normal'\n",
    ")"
   ]
  },
  {
   "cell_type": "code",
   "execution_count": 17,
   "id": "312dc1fc",
   "metadata": {},
   "outputs": [],
   "source": [
    "def gen_data_get_error(n_train, n_reps, dtype, **model_hps):\n",
    "    X_train, Y_train, all_test_sets = gen_lagged(\n",
    "        full_data, n_train, n_test, num_test_sets, q, dtype=dtype\n",
    "    )\n",
    "    errs, times = [], []\n",
    "    for i in range(n_reps):\n",
    "        t_start = time.time()\n",
    "        est = train_est(X_train, Y_train, **model_hps)\n",
    "        t_end = time.time()\n",
    "        times.append(t_end - t_start)\n",
    "        err = nrmse(est, all_test_sets, variable='all')[0].mean()\n",
    "        errs.append(err.item())\n",
    "    return (\n",
    "        np.median(errs),\n",
    "        np.percentile(errs, 90),\n",
    "        np.percentile(errs, 10),\n",
    "        np.min(times)\n",
    "   )"
   ]
  },
  {
   "cell_type": "code",
   "execution_count": 18,
   "id": "55eca15d",
   "metadata": {
    "code_folding": []
   },
   "outputs": [],
   "source": [
    "def hp_search_inner(hp_dict, fn, out_df: pd.DataFrame, pbar: tqdm, **kwargs):\n",
    "    new_dict = copy(hp_dict)\n",
    "    \n",
    "    final_hp_key, hp_list = None, []\n",
    "    for hp_key in list(new_dict.keys()):\n",
    "        hp_list = new_dict.pop(hp_key)\n",
    "        # Allow to specify different HP values for different 'kind' of algorithms\n",
    "        if isinstance(hp_list, dict):\n",
    "            hp_list = hp_list.get(kwargs['kind'], [])\n",
    "        if len(hp_list) > 0:\n",
    "            final_hp_key = hp_key\n",
    "            break\n",
    "    \n",
    "    if len(new_dict) == 0 and final_hp_key is None:  # base case??\n",
    "        err, err_high, err_low, t_elapsed = fn(**kwargs)\n",
    "        kwargs[\"err\"] = err\n",
    "        kwargs[\"err_high\"] = err_high\n",
    "        kwargs[\"err_low\"] = err_low\n",
    "        kwargs[\"time\"] = t_elapsed\n",
    "        pbar.update(1)\n",
    "        return pd.DataFrame.from_dict([kwargs])\n",
    "    \n",
    "    hp_dfs = []\n",
    "    for hp_val in hp_list:\n",
    "        kwargs[final_hp_key] = hp_val\n",
    "        try:\n",
    "            hp_dfs.append(hp_search_inner(new_dict, fn, out_df, pbar, **kwargs))\n",
    "        except Exception as e:\n",
    "            warnings.warn(f\"{kwargs} failed.\")\n",
    "            raise\n",
    "    return pd.concat([out_df] + hp_dfs)\n",
    "\n",
    "def hp_search(hp_dict, fn, out_df, **kwargs):\n",
    "    np.random.seed(42)\n",
    "    torch.manual_seed(42)\n",
    "    # Calculate total iterations taking into account the special dict case\n",
    "    total = 0\n",
    "    for algo_kind in hp_dict[\"kind\"]:\n",
    "        subtotal = 1\n",
    "        for k, v, in hp_dict.items():\n",
    "            if k == \"kind\": continue\n",
    "            if isinstance(v, dict):\n",
    "                subtotal *= len(v.get(algo_kind, [1]))\n",
    "            elif isinstance(v, list) or isinstance(v, tuple):\n",
    "                subtotal *= len(v)\n",
    "        total += subtotal\n",
    "    with tqdm(desc='HP Search', total=total, mininterval=1.0) as pbar:\n",
    "        return hp_search_inner(hp_dict, fn, out_df, pbar, **kwargs)"
   ]
  },
  {
   "cell_type": "code",
   "execution_count": 21,
   "id": "86c9e180",
   "metadata": {},
   "outputs": [],
   "source": [
    "pcr_hps_n = {\n",
    "    \"kind\": [\"full_rrr\", \"rrr\", \"full_pcr\", \"pcr\",],\n",
    "    \"M\": {\"pcr\": [250], \"rrr\": [250]},\n",
    "    \"kernel\": [GaussianKernel(3.5, opt=FalkonOptions(use_cpu=True))],\n",
    "    \"num_components\": [25],\n",
    "    \"n_train\": {\n",
    "        \"full_rrr\": np.logspace(2, 4, 10, dtype=int)[:-3],\n",
    "        \"rrr\": np.logspace(2, 4, 10, dtype=int),\n",
    "        \"full_pcr\": np.logspace(2, 4, 10, dtype=int),\n",
    "        \"pcr\": np.logspace(2, 4, 10, dtype=int),\n",
    "    },\n",
    "    \"n_reps\": {\n",
    "        \"full_rrr\": [2],\n",
    "        \"full_pcr\": [2],\n",
    "        \"rrr\": [20],\n",
    "        \"pcr\": [20]\n",
    "    },\n",
    "    \"dtype\": [torch.float32],\n",
    "    \"penalty\": {\"rrr\": [1e-6], \"full_rrr\": [1e-6]},\n",
    "}\n",
    "pcr_n_df_path = Path(\"outputs/timings/l63_varyn_m250_all.csv\")\n",
    "pcr_n_df_path.parent.mkdir(parents=True, exist_ok=True)"
   ]
  },
  {
   "cell_type": "code",
   "execution_count": 23,
   "id": "2a6cd12a",
   "metadata": {
    "scrolled": true
   },
   "outputs": [
    {
     "name": "stderr",
     "output_type": "stream",
     "text": [
      "HP Search:   8%|▊         | 3/37 [00:02<00:26,  1.28it/s]\n"
     ]
    },
    {
     "ename": "KeyboardInterrupt",
     "evalue": "",
     "output_type": "error",
     "traceback": [
      "\u001B[0;31m---------------------------------------------------------------------------\u001B[0m",
      "\u001B[0;31mKeyboardInterrupt\u001B[0m                         Traceback (most recent call last)",
      "Cell \u001B[0;32mIn [23], line 1\u001B[0m\n\u001B[0;32m----> 1\u001B[0m pcr_n_df \u001B[38;5;241m=\u001B[39m \u001B[43mhp_search\u001B[49m\u001B[43m(\u001B[49m\n\u001B[1;32m      2\u001B[0m \u001B[43m    \u001B[49m\u001B[43mpcr_hps_n\u001B[49m\u001B[43m,\u001B[49m\u001B[43m \u001B[49m\n\u001B[1;32m      3\u001B[0m \u001B[43m    \u001B[49m\u001B[43mgen_data_get_error\u001B[49m\u001B[43m,\u001B[49m\n\u001B[1;32m      4\u001B[0m \u001B[43m    \u001B[49m\u001B[43mpd\u001B[49m\u001B[38;5;241;43m.\u001B[39;49m\u001B[43mDataFrame\u001B[49m\u001B[43m(\u001B[49m\u001B[43m)\u001B[49m\n\u001B[1;32m      5\u001B[0m \u001B[43m)\u001B[49m\n\u001B[1;32m      6\u001B[0m pcr_n_df[\u001B[38;5;124m\"\u001B[39m\u001B[38;5;124msigma\u001B[39m\u001B[38;5;124m\"\u001B[39m] \u001B[38;5;241m=\u001B[39m pcr_n_df[\u001B[38;5;124m\"\u001B[39m\u001B[38;5;124mkernel\u001B[39m\u001B[38;5;124m\"\u001B[39m]\u001B[38;5;241m.\u001B[39mapply(\u001B[38;5;28;01mlambda\u001B[39;00m r: r\u001B[38;5;241m.\u001B[39msigma\u001B[38;5;241m.\u001B[39mitem())\n\u001B[1;32m      7\u001B[0m pcr_n_df \u001B[38;5;241m=\u001B[39m pcr_n_df\u001B[38;5;241m.\u001B[39mdrop(columns\u001B[38;5;241m=\u001B[39m[\u001B[38;5;124m\"\u001B[39m\u001B[38;5;124mkernel\u001B[39m\u001B[38;5;124m\"\u001B[39m])\n",
      "Cell \u001B[0;32mIn [18], line 48\u001B[0m, in \u001B[0;36mhp_search\u001B[0;34m(hp_dict, fn, out_df, **kwargs)\u001B[0m\n\u001B[1;32m     46\u001B[0m     total \u001B[38;5;241m+\u001B[39m\u001B[38;5;241m=\u001B[39m subtotal\n\u001B[1;32m     47\u001B[0m \u001B[38;5;28;01mwith\u001B[39;00m tqdm(desc\u001B[38;5;241m=\u001B[39m\u001B[38;5;124m'\u001B[39m\u001B[38;5;124mHP Search\u001B[39m\u001B[38;5;124m'\u001B[39m, total\u001B[38;5;241m=\u001B[39mtotal, mininterval\u001B[38;5;241m=\u001B[39m\u001B[38;5;241m1.0\u001B[39m) \u001B[38;5;28;01mas\u001B[39;00m pbar:\n\u001B[0;32m---> 48\u001B[0m     \u001B[38;5;28;01mreturn\u001B[39;00m \u001B[43mhp_search_inner\u001B[49m\u001B[43m(\u001B[49m\u001B[43mhp_dict\u001B[49m\u001B[43m,\u001B[49m\u001B[43m \u001B[49m\u001B[43mfn\u001B[49m\u001B[43m,\u001B[49m\u001B[43m \u001B[49m\u001B[43mout_df\u001B[49m\u001B[43m,\u001B[49m\u001B[43m \u001B[49m\u001B[43mpbar\u001B[49m\u001B[43m,\u001B[49m\u001B[43m \u001B[49m\u001B[38;5;241;43m*\u001B[39;49m\u001B[38;5;241;43m*\u001B[39;49m\u001B[43mkwargs\u001B[49m\u001B[43m)\u001B[49m\n",
      "Cell \u001B[0;32mIn [18], line 27\u001B[0m, in \u001B[0;36mhp_search_inner\u001B[0;34m(hp_dict, fn, out_df, pbar, **kwargs)\u001B[0m\n\u001B[1;32m     25\u001B[0m kwargs[final_hp_key] \u001B[38;5;241m=\u001B[39m hp_val\n\u001B[1;32m     26\u001B[0m \u001B[38;5;28;01mtry\u001B[39;00m:\n\u001B[0;32m---> 27\u001B[0m     hp_dfs\u001B[38;5;241m.\u001B[39mappend(\u001B[43mhp_search_inner\u001B[49m\u001B[43m(\u001B[49m\u001B[43mnew_dict\u001B[49m\u001B[43m,\u001B[49m\u001B[43m \u001B[49m\u001B[43mfn\u001B[49m\u001B[43m,\u001B[49m\u001B[43m \u001B[49m\u001B[43mout_df\u001B[49m\u001B[43m,\u001B[49m\u001B[43m \u001B[49m\u001B[43mpbar\u001B[49m\u001B[43m,\u001B[49m\u001B[43m \u001B[49m\u001B[38;5;241;43m*\u001B[39;49m\u001B[38;5;241;43m*\u001B[39;49m\u001B[43mkwargs\u001B[49m\u001B[43m)\u001B[49m)\n\u001B[1;32m     28\u001B[0m \u001B[38;5;28;01mexcept\u001B[39;00m \u001B[38;5;167;01mException\u001B[39;00m \u001B[38;5;28;01mas\u001B[39;00m e:\n\u001B[1;32m     29\u001B[0m     warnings\u001B[38;5;241m.\u001B[39mwarn(\u001B[38;5;124mf\u001B[39m\u001B[38;5;124m\"\u001B[39m\u001B[38;5;132;01m{\u001B[39;00mkwargs\u001B[38;5;132;01m}\u001B[39;00m\u001B[38;5;124m failed.\u001B[39m\u001B[38;5;124m\"\u001B[39m)\n",
      "Cell \u001B[0;32mIn [18], line 27\u001B[0m, in \u001B[0;36mhp_search_inner\u001B[0;34m(hp_dict, fn, out_df, pbar, **kwargs)\u001B[0m\n\u001B[1;32m     25\u001B[0m kwargs[final_hp_key] \u001B[38;5;241m=\u001B[39m hp_val\n\u001B[1;32m     26\u001B[0m \u001B[38;5;28;01mtry\u001B[39;00m:\n\u001B[0;32m---> 27\u001B[0m     hp_dfs\u001B[38;5;241m.\u001B[39mappend(\u001B[43mhp_search_inner\u001B[49m\u001B[43m(\u001B[49m\u001B[43mnew_dict\u001B[49m\u001B[43m,\u001B[49m\u001B[43m \u001B[49m\u001B[43mfn\u001B[49m\u001B[43m,\u001B[49m\u001B[43m \u001B[49m\u001B[43mout_df\u001B[49m\u001B[43m,\u001B[49m\u001B[43m \u001B[49m\u001B[43mpbar\u001B[49m\u001B[43m,\u001B[49m\u001B[43m \u001B[49m\u001B[38;5;241;43m*\u001B[39;49m\u001B[38;5;241;43m*\u001B[39;49m\u001B[43mkwargs\u001B[49m\u001B[43m)\u001B[49m)\n\u001B[1;32m     28\u001B[0m \u001B[38;5;28;01mexcept\u001B[39;00m \u001B[38;5;167;01mException\u001B[39;00m \u001B[38;5;28;01mas\u001B[39;00m e:\n\u001B[1;32m     29\u001B[0m     warnings\u001B[38;5;241m.\u001B[39mwarn(\u001B[38;5;124mf\u001B[39m\u001B[38;5;124m\"\u001B[39m\u001B[38;5;132;01m{\u001B[39;00mkwargs\u001B[38;5;132;01m}\u001B[39;00m\u001B[38;5;124m failed.\u001B[39m\u001B[38;5;124m\"\u001B[39m)\n",
      "    \u001B[0;31m[... skipping similar frames: hp_search_inner at line 27 (4 times)]\u001B[0m\n",
      "Cell \u001B[0;32mIn [18], line 27\u001B[0m, in \u001B[0;36mhp_search_inner\u001B[0;34m(hp_dict, fn, out_df, pbar, **kwargs)\u001B[0m\n\u001B[1;32m     25\u001B[0m kwargs[final_hp_key] \u001B[38;5;241m=\u001B[39m hp_val\n\u001B[1;32m     26\u001B[0m \u001B[38;5;28;01mtry\u001B[39;00m:\n\u001B[0;32m---> 27\u001B[0m     hp_dfs\u001B[38;5;241m.\u001B[39mappend(\u001B[43mhp_search_inner\u001B[49m\u001B[43m(\u001B[49m\u001B[43mnew_dict\u001B[49m\u001B[43m,\u001B[49m\u001B[43m \u001B[49m\u001B[43mfn\u001B[49m\u001B[43m,\u001B[49m\u001B[43m \u001B[49m\u001B[43mout_df\u001B[49m\u001B[43m,\u001B[49m\u001B[43m \u001B[49m\u001B[43mpbar\u001B[49m\u001B[43m,\u001B[49m\u001B[43m \u001B[49m\u001B[38;5;241;43m*\u001B[39;49m\u001B[38;5;241;43m*\u001B[39;49m\u001B[43mkwargs\u001B[49m\u001B[43m)\u001B[49m)\n\u001B[1;32m     28\u001B[0m \u001B[38;5;28;01mexcept\u001B[39;00m \u001B[38;5;167;01mException\u001B[39;00m \u001B[38;5;28;01mas\u001B[39;00m e:\n\u001B[1;32m     29\u001B[0m     warnings\u001B[38;5;241m.\u001B[39mwarn(\u001B[38;5;124mf\u001B[39m\u001B[38;5;124m\"\u001B[39m\u001B[38;5;132;01m{\u001B[39;00mkwargs\u001B[38;5;132;01m}\u001B[39;00m\u001B[38;5;124m failed.\u001B[39m\u001B[38;5;124m\"\u001B[39m)\n",
      "Cell \u001B[0;32mIn [18], line 15\u001B[0m, in \u001B[0;36mhp_search_inner\u001B[0;34m(hp_dict, fn, out_df, pbar, **kwargs)\u001B[0m\n\u001B[1;32m     12\u001B[0m         \u001B[38;5;28;01mbreak\u001B[39;00m\n\u001B[1;32m     14\u001B[0m \u001B[38;5;28;01mif\u001B[39;00m \u001B[38;5;28mlen\u001B[39m(new_dict) \u001B[38;5;241m==\u001B[39m \u001B[38;5;241m0\u001B[39m \u001B[38;5;129;01mand\u001B[39;00m final_hp_key \u001B[38;5;129;01mis\u001B[39;00m \u001B[38;5;28;01mNone\u001B[39;00m:  \u001B[38;5;66;03m# base case??\u001B[39;00m\n\u001B[0;32m---> 15\u001B[0m     err, err_high, err_low, t_elapsed \u001B[38;5;241m=\u001B[39m \u001B[43mfn\u001B[49m\u001B[43m(\u001B[49m\u001B[38;5;241;43m*\u001B[39;49m\u001B[38;5;241;43m*\u001B[39;49m\u001B[43mkwargs\u001B[49m\u001B[43m)\u001B[49m\n\u001B[1;32m     16\u001B[0m     kwargs[\u001B[38;5;124m\"\u001B[39m\u001B[38;5;124merr\u001B[39m\u001B[38;5;124m\"\u001B[39m] \u001B[38;5;241m=\u001B[39m err\n\u001B[1;32m     17\u001B[0m     kwargs[\u001B[38;5;124m\"\u001B[39m\u001B[38;5;124merr_high\u001B[39m\u001B[38;5;124m\"\u001B[39m] \u001B[38;5;241m=\u001B[39m err_high\n",
      "Cell \u001B[0;32mIn [17], line 8\u001B[0m, in \u001B[0;36mgen_data_get_error\u001B[0;34m(n_train, n_reps, dtype, **model_hps)\u001B[0m\n\u001B[1;32m      6\u001B[0m \u001B[38;5;28;01mfor\u001B[39;00m i \u001B[38;5;129;01min\u001B[39;00m \u001B[38;5;28mrange\u001B[39m(n_reps):\n\u001B[1;32m      7\u001B[0m     t_start \u001B[38;5;241m=\u001B[39m time\u001B[38;5;241m.\u001B[39mtime()\n\u001B[0;32m----> 8\u001B[0m     est \u001B[38;5;241m=\u001B[39m \u001B[43mtrain_est\u001B[49m\u001B[43m(\u001B[49m\u001B[43mX_train\u001B[49m\u001B[43m,\u001B[49m\u001B[43m \u001B[49m\u001B[43mY_train\u001B[49m\u001B[43m,\u001B[49m\u001B[43m \u001B[49m\u001B[38;5;241;43m*\u001B[39;49m\u001B[38;5;241;43m*\u001B[39;49m\u001B[43mmodel_hps\u001B[49m\u001B[43m)\u001B[49m\n\u001B[1;32m      9\u001B[0m     t_end \u001B[38;5;241m=\u001B[39m time\u001B[38;5;241m.\u001B[39mtime()\n\u001B[1;32m     10\u001B[0m     times\u001B[38;5;241m.\u001B[39mappend(t_end \u001B[38;5;241m-\u001B[39m t_start)\n",
      "File \u001B[0;32m~/Dropbox/unige/koopmannystroem/nyskoop/notebooks/experiment_helpers.py:36\u001B[0m, in \u001B[0;36mtrain_est\u001B[0;34m(X, Y, kind, **kwargs)\u001B[0m\n\u001B[1;32m     34\u001B[0m \u001B[38;5;28;01mdef\u001B[39;00m \u001B[38;5;21mtrain_est\u001B[39m(X, Y, kind, \u001B[38;5;241m*\u001B[39m\u001B[38;5;241m*\u001B[39mkwargs):\n\u001B[1;32m     35\u001B[0m     \u001B[38;5;28;01mif\u001B[39;00m kind\u001B[38;5;241m.\u001B[39mstartswith(\u001B[38;5;124m\"\u001B[39m\u001B[38;5;124mfull\u001B[39m\u001B[38;5;124m\"\u001B[39m):\n\u001B[0;32m---> 36\u001B[0m         \u001B[38;5;28;01mreturn\u001B[39;00m \u001B[43mtrain_full_est\u001B[49m\u001B[43m(\u001B[49m\u001B[43mX\u001B[49m\u001B[43m,\u001B[49m\u001B[43m \u001B[49m\u001B[43mY\u001B[49m\u001B[43m,\u001B[49m\u001B[43m \u001B[49m\u001B[43mkind\u001B[49m\u001B[38;5;241;43m=\u001B[39;49m\u001B[43mkind\u001B[49m\u001B[38;5;241;43m.\u001B[39;49m\u001B[43msplit\u001B[49m\u001B[43m(\u001B[49m\u001B[38;5;124;43m\"\u001B[39;49m\u001B[38;5;124;43m_\u001B[39;49m\u001B[38;5;124;43m\"\u001B[39;49m\u001B[43m)\u001B[49m\u001B[43m[\u001B[49m\u001B[38;5;241;43m1\u001B[39;49m\u001B[43m]\u001B[49m\u001B[43m,\u001B[49m\u001B[43m \u001B[49m\u001B[38;5;241;43m*\u001B[39;49m\u001B[38;5;241;43m*\u001B[39;49m\u001B[43mkwargs\u001B[49m\u001B[43m)\u001B[49m\n\u001B[1;32m     37\u001B[0m     \u001B[38;5;28;01melif\u001B[39;00m kind\u001B[38;5;241m.\u001B[39mstartswith(\u001B[38;5;124m\"\u001B[39m\u001B[38;5;124mkaf\u001B[39m\u001B[38;5;124m\"\u001B[39m):\n\u001B[1;32m     38\u001B[0m         \u001B[38;5;28;01mreturn\u001B[39;00m train_kaf_est(X, Y, kind\u001B[38;5;241m=\u001B[39mkind\u001B[38;5;241m.\u001B[39msplit(\u001B[38;5;124m\"\u001B[39m\u001B[38;5;124m_\u001B[39m\u001B[38;5;124m\"\u001B[39m)[\u001B[38;5;241m1\u001B[39m], \u001B[38;5;241m*\u001B[39m\u001B[38;5;241m*\u001B[39mkwargs)\n",
      "File \u001B[0;32m~/Dropbox/unige/koopmannystroem/nyskoop/notebooks/experiment_helpers.py:62\u001B[0m, in \u001B[0;36mtrain_full_est\u001B[0;34m(X, Y, kind, **kind_kwargs)\u001B[0m\n\u001B[1;32m     60\u001B[0m \u001B[38;5;28;01melse\u001B[39;00m:\n\u001B[1;32m     61\u001B[0m     \u001B[38;5;28;01mraise\u001B[39;00m \u001B[38;5;167;01mValueError\u001B[39;00m(kind)\n\u001B[0;32m---> 62\u001B[0m \u001B[43mest\u001B[49m\u001B[38;5;241;43m.\u001B[39;49m\u001B[43mfit\u001B[49m\u001B[43m(\u001B[49m\u001B[43mX\u001B[49m\u001B[43m,\u001B[49m\u001B[43m \u001B[49m\u001B[43mY\u001B[49m\u001B[43m)\u001B[49m\n\u001B[1;32m     63\u001B[0m \u001B[38;5;28;01mreturn\u001B[39;00m est\n",
      "File \u001B[0;32m~/miniconda3/envs/torch/lib/python3.9/site-packages/kooplearn/estimators.py:371\u001B[0m, in \u001B[0;36mReducedRank.fit\u001B[0;34m(self, X, Y, _skip_checks)\u001B[0m\n\u001B[1;32m    369\u001B[0m     U, V, sigma_sq \u001B[38;5;241m=\u001B[39m \u001B[38;5;28mself\u001B[39m\u001B[38;5;241m.\u001B[39m_fit_unregularized(\u001B[38;5;28mself\u001B[39m\u001B[38;5;241m.\u001B[39mK_X_, \u001B[38;5;28mself\u001B[39m\u001B[38;5;241m.\u001B[39mK_Y_)\n\u001B[1;32m    370\u001B[0m \u001B[38;5;28;01melse\u001B[39;00m:\n\u001B[0;32m--> 371\u001B[0m     U, V, sigma_sq \u001B[38;5;241m=\u001B[39m \u001B[38;5;28;43mself\u001B[39;49m\u001B[38;5;241;43m.\u001B[39;49m\u001B[43m_fit_regularized\u001B[49m\u001B[43m(\u001B[49m\u001B[38;5;28;43mself\u001B[39;49m\u001B[38;5;241;43m.\u001B[39;49m\u001B[43mK_X_\u001B[49m\u001B[43m,\u001B[49m\u001B[43m \u001B[49m\u001B[38;5;28;43mself\u001B[39;49m\u001B[38;5;241;43m.\u001B[39;49m\u001B[43mK_Y_\u001B[49m\u001B[43m)\u001B[49m     \n\u001B[1;32m    372\u001B[0m \u001B[38;5;28mself\u001B[39m\u001B[38;5;241m.\u001B[39mU_ \u001B[38;5;241m=\u001B[39m np\u001B[38;5;241m.\u001B[39masfortranarray(U)\n\u001B[1;32m    373\u001B[0m \u001B[38;5;28mself\u001B[39m\u001B[38;5;241m.\u001B[39mV_ \u001B[38;5;241m=\u001B[39m np\u001B[38;5;241m.\u001B[39masfortranarray(V)\n",
      "File \u001B[0;32m~/miniconda3/envs/torch/lib/python3.9/site-packages/kooplearn/estimators.py:424\u001B[0m, in \u001B[0;36mReducedRank._fit_regularized\u001B[0;34m(self, K_X, K_Y)\u001B[0m\n\u001B[1;32m    422\u001B[0m \u001B[38;5;28;01melse\u001B[39;00m: \u001B[38;5;66;03m#'full'\u001B[39;00m\n\u001B[1;32m    423\u001B[0m     tikhonov \u001B[38;5;241m=\u001B[39m np\u001B[38;5;241m.\u001B[39midentity(dim, dtype\u001B[38;5;241m=\u001B[39mK_X\u001B[38;5;241m.\u001B[39mdtype) \u001B[38;5;241m*\u001B[39m alpha\n\u001B[0;32m--> 424\u001B[0m     sigma_sq, U \u001B[38;5;241m=\u001B[39m \u001B[43meig\u001B[49m\u001B[43m(\u001B[49m\u001B[43mK\u001B[49m\u001B[43m,\u001B[49m\u001B[43m \u001B[49m\u001B[43mK_X\u001B[49m\u001B[43m \u001B[49m\u001B[38;5;241;43m+\u001B[39;49m\u001B[43m \u001B[49m\u001B[43mtikhonov\u001B[49m\u001B[43m)\u001B[49m\n\u001B[1;32m    426\u001B[0m max_imag_part \u001B[38;5;241m=\u001B[39m np\u001B[38;5;241m.\u001B[39mmax(U\u001B[38;5;241m.\u001B[39mimag)\n\u001B[1;32m    427\u001B[0m \u001B[38;5;28;01mif\u001B[39;00m max_imag_part \u001B[38;5;241m>\u001B[39m\u001B[38;5;241m=\u001B[39m\u001B[38;5;241m2.2e-10\u001B[39m:\n",
      "File \u001B[0;32m~/miniconda3/envs/torch/lib/python3.9/site-packages/scipy/linalg/_decomp.py:225\u001B[0m, in \u001B[0;36meig\u001B[0;34m(a, b, left, right, overwrite_a, overwrite_b, check_finite, homogeneous_eigvals)\u001B[0m\n\u001B[1;32m    223\u001B[0m     \u001B[38;5;28;01mif\u001B[39;00m b1\u001B[38;5;241m.\u001B[39mshape \u001B[38;5;241m!=\u001B[39m a1\u001B[38;5;241m.\u001B[39mshape:\n\u001B[1;32m    224\u001B[0m         \u001B[38;5;28;01mraise\u001B[39;00m \u001B[38;5;167;01mValueError\u001B[39;00m(\u001B[38;5;124m'\u001B[39m\u001B[38;5;124ma and b must have the same shape\u001B[39m\u001B[38;5;124m'\u001B[39m)\n\u001B[0;32m--> 225\u001B[0m     \u001B[38;5;28;01mreturn\u001B[39;00m \u001B[43m_geneig\u001B[49m\u001B[43m(\u001B[49m\u001B[43ma1\u001B[49m\u001B[43m,\u001B[49m\u001B[43m \u001B[49m\u001B[43mb1\u001B[49m\u001B[43m,\u001B[49m\u001B[43m \u001B[49m\u001B[43mleft\u001B[49m\u001B[43m,\u001B[49m\u001B[43m \u001B[49m\u001B[43mright\u001B[49m\u001B[43m,\u001B[49m\u001B[43m \u001B[49m\u001B[43moverwrite_a\u001B[49m\u001B[43m,\u001B[49m\u001B[43m \u001B[49m\u001B[43moverwrite_b\u001B[49m\u001B[43m,\u001B[49m\n\u001B[1;32m    226\u001B[0m \u001B[43m                   \u001B[49m\u001B[43mhomogeneous_eigvals\u001B[49m\u001B[43m)\u001B[49m\n\u001B[1;32m    228\u001B[0m geev, geev_lwork \u001B[38;5;241m=\u001B[39m get_lapack_funcs((\u001B[38;5;124m'\u001B[39m\u001B[38;5;124mgeev\u001B[39m\u001B[38;5;124m'\u001B[39m, \u001B[38;5;124m'\u001B[39m\u001B[38;5;124mgeev_lwork\u001B[39m\u001B[38;5;124m'\u001B[39m), (a1,))\n\u001B[1;32m    229\u001B[0m compute_vl, compute_vr \u001B[38;5;241m=\u001B[39m left, right\n",
      "File \u001B[0;32m~/miniconda3/envs/torch/lib/python3.9/site-packages/scipy/linalg/_decomp.py:86\u001B[0m, in \u001B[0;36m_geneig\u001B[0;34m(a1, b1, left, right, overwrite_a, overwrite_b, homogeneous_eigvals)\u001B[0m\n\u001B[1;32m     84\u001B[0m     w \u001B[38;5;241m=\u001B[39m _make_eigvals(alpha, beta, homogeneous_eigvals)\n\u001B[1;32m     85\u001B[0m \u001B[38;5;28;01melse\u001B[39;00m:\n\u001B[0;32m---> 86\u001B[0m     alphar, alphai, beta, vl, vr, work, info \u001B[38;5;241m=\u001B[39m \u001B[43mggev\u001B[49m\u001B[43m(\u001B[49m\u001B[43ma1\u001B[49m\u001B[43m,\u001B[49m\u001B[43m \u001B[49m\u001B[43mb1\u001B[49m\u001B[43m,\u001B[49m\u001B[43m \u001B[49m\u001B[43mcvl\u001B[49m\u001B[43m,\u001B[49m\u001B[43m \u001B[49m\u001B[43mcvr\u001B[49m\u001B[43m,\u001B[49m\n\u001B[1;32m     87\u001B[0m \u001B[43m                                                    \u001B[49m\u001B[43mlwork\u001B[49m\u001B[43m,\u001B[49m\u001B[43m \u001B[49m\u001B[43moverwrite_a\u001B[49m\u001B[43m,\u001B[49m\n\u001B[1;32m     88\u001B[0m \u001B[43m                                                    \u001B[49m\u001B[43moverwrite_b\u001B[49m\u001B[43m)\u001B[49m\n\u001B[1;32m     89\u001B[0m     alpha \u001B[38;5;241m=\u001B[39m alphar \u001B[38;5;241m+\u001B[39m _I \u001B[38;5;241m*\u001B[39m alphai\n\u001B[1;32m     90\u001B[0m     w \u001B[38;5;241m=\u001B[39m _make_eigvals(alpha, beta, homogeneous_eigvals)\n",
      "\u001B[0;31mKeyboardInterrupt\u001B[0m: "
     ]
    }
   ],
   "source": [
    "pcr_n_df = hp_search(\n",
    "    pcr_hps_n, \n",
    "    gen_data_get_error,\n",
    "    pd.DataFrame()\n",
    ")\n",
    "pcr_n_df[\"sigma\"] = pcr_n_df[\"kernel\"].apply(lambda r: r.sigma.item())\n",
    "pcr_n_df = pcr_n_df.drop(columns=[\"kernel\"])\n",
    "pcr_n_df.to_csv(pcr_n_df_path, index=False)"
   ]
  },
  {
   "cell_type": "code",
   "execution_count": null,
   "id": "ef31d721",
   "metadata": {},
   "outputs": [],
   "source": [
    "df = pd.read_csv(pcr_n_df_path)\n",
    "fig, ax = plt.subplots(ncols=2, figsize=(8, 4))\n",
    "models = [\n",
    "    (\"full_rrr\", \"FullRRR\", IBM_COLORS[3], \"-\"),\n",
    "    (\"rrr\", \"NysRRR\", IBM_COLORS[1], \"--\"),\n",
    "    (\"full_pcr\", \"FullPCR\", IBM_COLORS[0], \"-\"),\n",
    "    (\"pcr\", \"NysPCR\", IBM_COLORS[2], \"--\"),\n",
    "]\n",
    "\n",
    "for kind, lbl, c, ls in models:\n",
    "    # Error\n",
    "    ax[0].plot(df[df[\"kind\"] == kind][\"n_train\"],\n",
    "            df[df[\"kind\"] == kind][\"err\"], label=lbl, \n",
    "               c=c, marker='o', lw=2, linestyle=ls)\n",
    "    ax[0].fill_between(\n",
    "        df[df[\"kind\"] == kind][\"n_train\"],\n",
    "        df[df[\"kind\"] == kind][\"err_low\"],\n",
    "        df[df[\"kind\"] == kind][\"err_high\"],\n",
    "        color=c, alpha=0.3,\n",
    "    )\n",
    "    # Time\n",
    "    ax[1].plot(df[df[\"kind\"] == kind][\"n_train\"],\n",
    "             df[df[\"kind\"] == kind][\"time\"], \n",
    "             c=c, marker='o', lw=2, linestyle=ls)\n",
    "\n",
    "ax[0].set_xlabel('Number of samples')\n",
    "ax[0].set_ylabel(\"nRMSE\")\n",
    "ax[0].set_xscale('log')\n",
    "ax[0].set_xlim(100, 10000)\n",
    "\n",
    "ax[1].set_xlabel('Number of samples')\n",
    "ax[1].set_ylabel('Time (s)')\n",
    "ax[1].set_xscale('log')\n",
    "ax[1].set_yscale('log')\n",
    "ax[1].set_xlim(100, 10000)\n",
    "ax[1].set_yticks([1e-2, 1e-1, 1, 1e1, 1e2])\n",
    "\n",
    "fig.legend(ncols=4, loc='upper center', bbox_to_anchor=(0.5, 1.1))\n",
    "fig.tight_layout()\n",
    "# fig.savefig(pcr_n_df_path.with_suffix('.png'), dpi=300)"
   ]
  },
  {
   "cell_type": "code",
   "execution_count": null,
   "id": "b3c11ed3",
   "metadata": {},
   "outputs": [],
   "source": [
    "df = pd.read_csv(pcr_n_df_path)\n",
    "fig, ax = plt.subplots(ncols=2)\n",
    "models = [\n",
    "    (\"full_rrr\", \"FullRRR\", IBM_COLORS[3], \"-\"),\n",
    "    (\"rrr\", \"NysRRR\", IBM_COLORS[1], \"--\"),\n",
    "#     (\"full_pcr\", \"FullPCR\", IBM_COLORS[0], \"-\"),\n",
    "#     (\"pcr\", \"NysPCR\", IBM_COLORS[2], \"--\"),\n",
    "]\n",
    "\n",
    "for kind, lbl, c, ls in models:\n",
    "    # Error\n",
    "    ax[0].plot(df[df[\"kind\"] == kind][\"n_train\"],\n",
    "            df[df[\"kind\"] == kind][\"err\"], label=lbl, \n",
    "               c=c, marker='o', lw=2, linestyle=ls)\n",
    "    ax[0].fill_between(\n",
    "        df[df[\"kind\"] == kind][\"n_train\"],\n",
    "        df[df[\"kind\"] == kind][\"err_low\"],\n",
    "        df[df[\"kind\"] == kind][\"err_high\"],\n",
    "        color=c, alpha=0.3,\n",
    "    )\n",
    "    # Time\n",
    "    ax[1].plot(df[df[\"kind\"] == kind][\"n_train\"],\n",
    "             df[df[\"kind\"] == kind][\"time\"], \n",
    "             c=c, marker='o', lw=2, linestyle=ls)\n",
    "fig.legend(ncols=4, loc='upper center')\n",
    "\n",
    "ax[0].set_xlabel('Number of samples')\n",
    "ax[0].set_ylabel(\"nRMSE\")\n",
    "ax[0].set_xscale('log')\n",
    "\n",
    "ax[1].set_xlabel('Number of samples')\n",
    "ax[1].set_ylabel('Time (s)')\n",
    "ax[1].set_xscale('log')\n",
    "ax[1].set_yscale('log')\n",
    "\n",
    "fig.tight_layout()\n",
    "# fig.savefig(pcr_n_df_path.with_suffix('.png'), dpi=300)\n"
   ]
  }
 ],
 "metadata": {
  "kernelspec": {
   "display_name": "Python 3 (ipykernel)",
   "language": "python",
   "name": "python3"
  },
  "language_info": {
   "codemirror_mode": {
    "name": "ipython",
    "version": 3
   },
   "file_extension": ".py",
   "mimetype": "text/x-python",
   "name": "python",
   "nbconvert_exporter": "python",
   "pygments_lexer": "ipython3",
   "version": "3.10.10"
  },
  "toc": {
   "base_numbering": 1,
   "nav_menu": {},
   "number_sections": true,
   "sideBar": true,
   "skip_h1_title": false,
   "title_cell": "Table of Contents",
   "title_sidebar": "Contents",
   "toc_cell": false,
   "toc_position": {},
   "toc_section_display": true,
   "toc_window_display": false
  }
 },
 "nbformat": 4,
 "nbformat_minor": 5
}