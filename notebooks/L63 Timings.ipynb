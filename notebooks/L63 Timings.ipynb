{
 "cells": [
  {
   "cell_type": "code",
   "execution_count": 139,
   "id": "cf4673d1",
   "metadata": {},
   "outputs": [
    {
     "name": "stdout",
     "output_type": "stream",
     "text": [
      "The autoreload extension is already loaded. To reload it, use:\n",
      "  %reload_ext autoreload\n"
     ]
    }
   ],
   "source": [
    "%load_ext autoreload\n",
    "%autoreload 2"
   ]
  },
  {
   "cell_type": "code",
   "execution_count": 140,
   "id": "35ea1c3a",
   "metadata": {},
   "outputs": [],
   "source": [
    "import sys\n",
    "sys.path.append(\"..\")\n",
    "import time\n",
    "import warnings\n",
    "from pathlib import Path\n",
    "from copy import copy\n",
    "\n",
    "import pandas as pd\n",
    "import matplotlib.pyplot as plt\n",
    "from tqdm import tqdm\n",
    "import numpy as np\n",
    "import torch\n",
    "\n",
    "from falkon.kernels import GaussianKernel\n",
    "from falkon import FalkonOptions\n",
    "from nyskoop.data.lorenz import Lorenz63\n",
    "from experiment_helpers import *"
   ]
  },
  {
   "cell_type": "code",
   "execution_count": 141,
   "id": "c2c4599a",
   "metadata": {},
   "outputs": [],
   "source": [
    "set_matplotlib_rc(18, 20, 22)"
   ]
  },
  {
   "cell_type": "code",
   "execution_count": 142,
   "id": "fc7a6298",
   "metadata": {},
   "outputs": [],
   "source": [
    "def gen_l63_fulldata(n_train: int, n_test: int, num_test_sets: int, max_q: int, **kwargs):\n",
    "    ics = np.array([1, 1, 1])\n",
    "    lorenz63_dset = Lorenz63(ics[0], ics[1], ics[2], sigma=10, rho=28, beta=8/3, **kwargs)\n",
    "    full_data = lorenz63_dset.solve(n_train + num_test_sets * n_test + max_q * (num_test_sets + 1))\n",
    "    full_data = torch.from_numpy(full_data)\n",
    "    return full_data"
   ]
  },
  {
   "cell_type": "code",
   "execution_count": 143,
   "id": "d7262043",
   "metadata": {},
   "outputs": [],
   "source": [
    "fig_path = Path(\"outputs/timings\")\n",
    "fig_path.mkdir(exist_ok=True, parents=True)"
   ]
  },
  {
   "cell_type": "markdown",
   "id": "197e2961",
   "metadata": {},
   "source": [
    "**Generate the whole dataset. Max 10k training points**"
   ]
  },
  {
   "cell_type": "code",
   "execution_count": 179,
   "id": "ea073273",
   "metadata": {},
   "outputs": [],
   "source": [
    "q = 40  # How many steps-ahead for predictions\n",
    "num_test_sets = 5\n",
    "n_test = 10_000\n",
    "full_data = gen_l63_fulldata(\n",
    "    100_000, n_test, num_test_sets, max_q=q, dt=0.01, burnin=5, l63_version='normal'\n",
    ")"
   ]
  },
  {
   "cell_type": "markdown",
   "id": "30a63159",
   "metadata": {},
   "source": [
    "**Helper functions to run the experiments**"
   ]
  },
  {
   "cell_type": "code",
   "execution_count": null,
   "id": "30cbaac2",
   "metadata": {},
   "outputs": [],
   "source": []
  },
  {
   "cell_type": "code",
   "execution_count": 299,
   "id": "312dc1fc",
   "metadata": {},
   "outputs": [],
   "source": [
    "def gen_data_get_error(n_train, n_reps, dtype, **model_hps):\n",
    "    X_train, Y_train, all_test_sets = gen_lagged(\n",
    "        full_data, n_train, n_test, num_test_sets, q, dtype=dtype\n",
    "    )\n",
    "    errs, times = [], []\n",
    "    for i in range(n_reps):\n",
    "        t_start = time.time()\n",
    "        if \"M\" in model_hps:\n",
    "            model_hps[\"M\"] = int(5 * np.sqrt(n_train))\n",
    "        if \"penalty\" in model_hps:\n",
    "            model_hps[\"penalty\"] = 1 / np.sqrt(n)\n",
    "        est = train_est(X_train, Y_train, **model_hps)\n",
    "        t_end = time.time()\n",
    "        times.append(t_end - t_start)\n",
    "        err = nrmse(est, all_test_sets, variable='all')[0].mean()\n",
    "        errs.append(err.item())\n",
    "    return (\n",
    "        np.median(errs),\n",
    "        np.percentile(errs, 90),\n",
    "        np.percentile(errs, 10),\n",
    "        np.min(times)\n",
    "   )"
   ]
  },
  {
   "cell_type": "code",
   "execution_count": 146,
   "id": "55eca15d",
   "metadata": {
    "code_folding": []
   },
   "outputs": [],
   "source": [
    "def hp_search_inner(hp_dict, fn, out_df: pd.DataFrame, pbar: tqdm, **kwargs):\n",
    "    new_dict = copy(hp_dict)\n",
    "    \n",
    "    final_hp_key, hp_list = None, []\n",
    "    for hp_key in list(new_dict.keys()):\n",
    "        hp_list = new_dict.pop(hp_key)\n",
    "        # Allow to specify different HP values for different 'kind' of algorithms\n",
    "        if isinstance(hp_list, dict):\n",
    "            hp_list = hp_list.get(kwargs['kind'], [])\n",
    "        if len(hp_list) > 0:\n",
    "            final_hp_key = hp_key\n",
    "            break\n",
    "    \n",
    "    if len(new_dict) == 0 and final_hp_key is None:  # base case??\n",
    "        err, err_high, err_low, t_elapsed = fn(**kwargs)\n",
    "        kwargs[\"err\"] = err\n",
    "        kwargs[\"err_high\"] = err_high\n",
    "        kwargs[\"err_low\"] = err_low\n",
    "        kwargs[\"time\"] = t_elapsed\n",
    "        pbar.update(1)\n",
    "        return pd.DataFrame.from_dict([kwargs])\n",
    "    \n",
    "    hp_dfs = []\n",
    "    for hp_val in hp_list:\n",
    "        kwargs[final_hp_key] = hp_val\n",
    "        try:\n",
    "            hp_dfs.append(hp_search_inner(new_dict, fn, out_df, pbar, **kwargs))\n",
    "        except Exception as e:\n",
    "            warnings.warn(f\"{kwargs} failed.\")\n",
    "            raise\n",
    "    return pd.concat([out_df] + hp_dfs)\n",
    "\n",
    "def hp_search(hp_dict, fn, out_df, **kwargs):\n",
    "    np.random.seed(42)\n",
    "    torch.manual_seed(42)\n",
    "    # Calculate total iterations taking into account the special dict case\n",
    "    total = 0\n",
    "    for algo_kind in hp_dict[\"kind\"]:\n",
    "        subtotal = 1\n",
    "        for k, v, in hp_dict.items():\n",
    "            if k == \"kind\": continue\n",
    "            if isinstance(v, dict):\n",
    "                subtotal *= len(v.get(algo_kind, [1]))\n",
    "            elif isinstance(v, list) or isinstance(v, tuple):\n",
    "                subtotal *= len(v)\n",
    "        total += subtotal\n",
    "    with tqdm(desc='HP Search', total=total, mininterval=1.0) as pbar:\n",
    "        return hp_search_inner(hp_dict, fn, out_df, pbar, **kwargs)"
   ]
  },
  {
   "cell_type": "markdown",
   "id": "43fc8e9c",
   "metadata": {},
   "source": [
    "**Define hyperparameters**\n",
    "\n",
    "The `kind` key defines which estimators will run.\n",
    "\n",
    "The other keys are hyperparameters for either the estimators or the data generation.\n",
    "\n",
    "Remember to set the **exp_name** variable appropriately!"
   ]
  },
  {
   "cell_type": "code",
   "execution_count": 300,
   "id": "86c9e180",
   "metadata": {},
   "outputs": [],
   "source": [
    "pcr_hps_n = {\n",
    "    \"kind\": [\"pcr\", \"rrr\", \"krr\"],#[\"full_rrr\", \"rrr\", \"full_pcr\", \"pcr\", ],\n",
    "    \"M\": {\"pcr\": [250], \"rrr\": [250], \"krr\": [250]},\n",
    "    \"kernel\": [GaussianKernel(3.5, opt=FalkonOptions(use_cpu=True))],\n",
    "    \"num_components\": {\n",
    "        \"pcr\": [25],\n",
    "        \"full_rrr\": [25],\n",
    "        \"rrr\": [25],\n",
    "        \"full_pcr\": [25],\n",
    "    },\n",
    "    # 'n_train' is the x-axis for this experiment: time/error as n_train increases.\n",
    "    \"n_train\": {\n",
    "        \"full_rrr\": np.logspace(2, 4, 10, dtype=int)[:-2],  # takes too long if we go up to 10**4\n",
    "        \"rrr\": np.logspace(2, 4.8, 20, dtype=int),\n",
    "        \"full_pcr\": np.logspace(2, 4, 10, dtype=int),\n",
    "        \"pcr\": np.logspace(2, 4.8, 20, dtype=int),\n",
    "        \"krr\": np.logspace(2, 4.8, 20, dtype=int),\n",
    "    },\n",
    "    \"n_reps\": {\n",
    "        \"full_rrr\": [2],  # only 2 reps since there is no variability in error (only in timings)\n",
    "        \"full_pcr\": [2],\n",
    "        \"rrr\": [20],\n",
    "        \"pcr\": [20],\n",
    "        \"krr\": [20]\n",
    "    },\n",
    "    \"dtype\": [torch.float32],\n",
    "    \"penalty\": {\"rrr\": [1e-4], \"full_rrr\": [1e-4], \"krr\": [1e-2]},\n",
    "}\n",
    "exp_name = \"l63_varym_varyn_5sqrtn\"\n",
    "pcr_n_df_path = Path(f\"outputs/timings/{exp_name}.csv\")\n",
    "pcr_n_df_path.parent.mkdir(parents=True, exist_ok=True)"
   ]
  },
  {
   "cell_type": "code",
   "execution_count": null,
   "id": "95812314",
   "metadata": {},
   "outputs": [],
   "source": []
  },
  {
   "cell_type": "markdown",
   "id": "f7da3e4c",
   "metadata": {},
   "source": [
    "**Run experiment with increasing training set size**"
   ]
  },
  {
   "cell_type": "code",
   "execution_count": 301,
   "id": "2a6cd12a",
   "metadata": {
    "scrolled": true
   },
   "outputs": [
    {
     "name": "stderr",
     "output_type": "stream",
     "text": [
      "HP Search:  33%|██████████▋                     | 20/60 [01:32<09:23, 14.09s/it]/tmp/ipykernel_2868/1204261774.py:29: UserWarning: {'kind': 'rrr', 'M': 250, 'kernel': GaussianKernel(sigma=Parameter containing:\n",
      "tensor([3.5000], dtype=torch.float64)), 'num_components': 25, 'n_train': 100, 'n_reps': 20, 'dtype': torch.float32, 'penalty': 0.0001} failed.\n",
      "  warnings.warn(f\"{kwargs} failed.\")\n",
      "/tmp/ipykernel_2868/1204261774.py:29: UserWarning: {'kind': 'rrr', 'M': 250, 'kernel': GaussianKernel(sigma=Parameter containing:\n",
      "tensor([3.5000], dtype=torch.float64)), 'num_components': 25, 'n_train': 100, 'n_reps': 20, 'dtype': torch.float32} failed.\n",
      "  warnings.warn(f\"{kwargs} failed.\")\n",
      "/tmp/ipykernel_2868/1204261774.py:29: UserWarning: {'kind': 'rrr', 'M': 250, 'kernel': GaussianKernel(sigma=Parameter containing:\n",
      "tensor([3.5000], dtype=torch.float64)), 'num_components': 25, 'n_train': 100, 'n_reps': 20} failed.\n",
      "  warnings.warn(f\"{kwargs} failed.\")\n",
      "/tmp/ipykernel_2868/1204261774.py:29: UserWarning: {'kind': 'rrr', 'M': 250, 'kernel': GaussianKernel(sigma=Parameter containing:\n",
      "tensor([3.5000], dtype=torch.float64)), 'num_components': 25, 'n_train': 100} failed.\n",
      "  warnings.warn(f\"{kwargs} failed.\")\n",
      "/tmp/ipykernel_2868/1204261774.py:29: UserWarning: {'kind': 'rrr', 'M': 250, 'kernel': GaussianKernel(sigma=Parameter containing:\n",
      "tensor([3.5000], dtype=torch.float64)), 'num_components': 25} failed.\n",
      "  warnings.warn(f\"{kwargs} failed.\")\n",
      "/tmp/ipykernel_2868/1204261774.py:29: UserWarning: {'kind': 'rrr', 'M': 250, 'kernel': GaussianKernel(sigma=Parameter containing:\n",
      "tensor([3.5000], dtype=torch.float64))} failed.\n",
      "  warnings.warn(f\"{kwargs} failed.\")\n",
      "/tmp/ipykernel_2868/1204261774.py:29: UserWarning: {'kind': 'rrr', 'M': 250} failed.\n",
      "  warnings.warn(f\"{kwargs} failed.\")\n",
      "/tmp/ipykernel_2868/1204261774.py:29: UserWarning: {'kind': 'rrr'} failed.\n",
      "  warnings.warn(f\"{kwargs} failed.\")\n",
      "HP Search:  33%|██████████▋                     | 20/60 [01:32<03:04,  4.62s/it]\n"
     ]
    },
    {
     "ename": "NameError",
     "evalue": "name 'n' is not defined",
     "output_type": "error",
     "traceback": [
      "\u001b[0;31m---------------------------------------------------------------------------\u001b[0m",
      "\u001b[0;31mNameError\u001b[0m                                 Traceback (most recent call last)",
      "Cell \u001b[0;32mIn[301], line 1\u001b[0m\n\u001b[0;32m----> 1\u001b[0m pcr_n_df \u001b[38;5;241m=\u001b[39m \u001b[43mhp_search\u001b[49m\u001b[43m(\u001b[49m\n\u001b[1;32m      2\u001b[0m \u001b[43m    \u001b[49m\u001b[43mpcr_hps_n\u001b[49m\u001b[43m,\u001b[49m\u001b[43m \u001b[49m\n\u001b[1;32m      3\u001b[0m \u001b[43m    \u001b[49m\u001b[43mgen_data_get_error\u001b[49m\u001b[43m,\u001b[49m\n\u001b[1;32m      4\u001b[0m \u001b[43m    \u001b[49m\u001b[43mpd\u001b[49m\u001b[38;5;241;43m.\u001b[39;49m\u001b[43mDataFrame\u001b[49m\u001b[43m(\u001b[49m\u001b[43m)\u001b[49m\n\u001b[1;32m      5\u001b[0m \u001b[43m)\u001b[49m\n\u001b[1;32m      6\u001b[0m pcr_n_df[\u001b[38;5;124m\"\u001b[39m\u001b[38;5;124msigma\u001b[39m\u001b[38;5;124m\"\u001b[39m] \u001b[38;5;241m=\u001b[39m pcr_n_df[\u001b[38;5;124m\"\u001b[39m\u001b[38;5;124mkernel\u001b[39m\u001b[38;5;124m\"\u001b[39m]\u001b[38;5;241m.\u001b[39mapply(\u001b[38;5;28;01mlambda\u001b[39;00m r: r\u001b[38;5;241m.\u001b[39msigma\u001b[38;5;241m.\u001b[39mitem())\n\u001b[1;32m      7\u001b[0m pcr_n_df \u001b[38;5;241m=\u001b[39m pcr_n_df\u001b[38;5;241m.\u001b[39mdrop(columns\u001b[38;5;241m=\u001b[39m[\u001b[38;5;124m\"\u001b[39m\u001b[38;5;124mkernel\u001b[39m\u001b[38;5;124m\"\u001b[39m])\n",
      "Cell \u001b[0;32mIn[146], line 48\u001b[0m, in \u001b[0;36mhp_search\u001b[0;34m(hp_dict, fn, out_df, **kwargs)\u001b[0m\n\u001b[1;32m     46\u001b[0m     total \u001b[38;5;241m+\u001b[39m\u001b[38;5;241m=\u001b[39m subtotal\n\u001b[1;32m     47\u001b[0m \u001b[38;5;28;01mwith\u001b[39;00m tqdm(desc\u001b[38;5;241m=\u001b[39m\u001b[38;5;124m'\u001b[39m\u001b[38;5;124mHP Search\u001b[39m\u001b[38;5;124m'\u001b[39m, total\u001b[38;5;241m=\u001b[39mtotal, mininterval\u001b[38;5;241m=\u001b[39m\u001b[38;5;241m1.0\u001b[39m) \u001b[38;5;28;01mas\u001b[39;00m pbar:\n\u001b[0;32m---> 48\u001b[0m     \u001b[38;5;28;01mreturn\u001b[39;00m \u001b[43mhp_search_inner\u001b[49m\u001b[43m(\u001b[49m\u001b[43mhp_dict\u001b[49m\u001b[43m,\u001b[49m\u001b[43m \u001b[49m\u001b[43mfn\u001b[49m\u001b[43m,\u001b[49m\u001b[43m \u001b[49m\u001b[43mout_df\u001b[49m\u001b[43m,\u001b[49m\u001b[43m \u001b[49m\u001b[43mpbar\u001b[49m\u001b[43m,\u001b[49m\u001b[43m \u001b[49m\u001b[38;5;241;43m*\u001b[39;49m\u001b[38;5;241;43m*\u001b[39;49m\u001b[43mkwargs\u001b[49m\u001b[43m)\u001b[49m\n",
      "Cell \u001b[0;32mIn[146], line 27\u001b[0m, in \u001b[0;36mhp_search_inner\u001b[0;34m(hp_dict, fn, out_df, pbar, **kwargs)\u001b[0m\n\u001b[1;32m     25\u001b[0m kwargs[final_hp_key] \u001b[38;5;241m=\u001b[39m hp_val\n\u001b[1;32m     26\u001b[0m \u001b[38;5;28;01mtry\u001b[39;00m:\n\u001b[0;32m---> 27\u001b[0m     hp_dfs\u001b[38;5;241m.\u001b[39mappend(\u001b[43mhp_search_inner\u001b[49m\u001b[43m(\u001b[49m\u001b[43mnew_dict\u001b[49m\u001b[43m,\u001b[49m\u001b[43m \u001b[49m\u001b[43mfn\u001b[49m\u001b[43m,\u001b[49m\u001b[43m \u001b[49m\u001b[43mout_df\u001b[49m\u001b[43m,\u001b[49m\u001b[43m \u001b[49m\u001b[43mpbar\u001b[49m\u001b[43m,\u001b[49m\u001b[43m \u001b[49m\u001b[38;5;241;43m*\u001b[39;49m\u001b[38;5;241;43m*\u001b[39;49m\u001b[43mkwargs\u001b[49m\u001b[43m)\u001b[49m)\n\u001b[1;32m     28\u001b[0m \u001b[38;5;28;01mexcept\u001b[39;00m \u001b[38;5;167;01mException\u001b[39;00m \u001b[38;5;28;01mas\u001b[39;00m e:\n\u001b[1;32m     29\u001b[0m     warnings\u001b[38;5;241m.\u001b[39mwarn(\u001b[38;5;124mf\u001b[39m\u001b[38;5;124m\"\u001b[39m\u001b[38;5;132;01m{\u001b[39;00mkwargs\u001b[38;5;132;01m}\u001b[39;00m\u001b[38;5;124m failed.\u001b[39m\u001b[38;5;124m\"\u001b[39m)\n",
      "Cell \u001b[0;32mIn[146], line 27\u001b[0m, in \u001b[0;36mhp_search_inner\u001b[0;34m(hp_dict, fn, out_df, pbar, **kwargs)\u001b[0m\n\u001b[1;32m     25\u001b[0m kwargs[final_hp_key] \u001b[38;5;241m=\u001b[39m hp_val\n\u001b[1;32m     26\u001b[0m \u001b[38;5;28;01mtry\u001b[39;00m:\n\u001b[0;32m---> 27\u001b[0m     hp_dfs\u001b[38;5;241m.\u001b[39mappend(\u001b[43mhp_search_inner\u001b[49m\u001b[43m(\u001b[49m\u001b[43mnew_dict\u001b[49m\u001b[43m,\u001b[49m\u001b[43m \u001b[49m\u001b[43mfn\u001b[49m\u001b[43m,\u001b[49m\u001b[43m \u001b[49m\u001b[43mout_df\u001b[49m\u001b[43m,\u001b[49m\u001b[43m \u001b[49m\u001b[43mpbar\u001b[49m\u001b[43m,\u001b[49m\u001b[43m \u001b[49m\u001b[38;5;241;43m*\u001b[39;49m\u001b[38;5;241;43m*\u001b[39;49m\u001b[43mkwargs\u001b[49m\u001b[43m)\u001b[49m)\n\u001b[1;32m     28\u001b[0m \u001b[38;5;28;01mexcept\u001b[39;00m \u001b[38;5;167;01mException\u001b[39;00m \u001b[38;5;28;01mas\u001b[39;00m e:\n\u001b[1;32m     29\u001b[0m     warnings\u001b[38;5;241m.\u001b[39mwarn(\u001b[38;5;124mf\u001b[39m\u001b[38;5;124m\"\u001b[39m\u001b[38;5;132;01m{\u001b[39;00mkwargs\u001b[38;5;132;01m}\u001b[39;00m\u001b[38;5;124m failed.\u001b[39m\u001b[38;5;124m\"\u001b[39m)\n",
      "    \u001b[0;31m[... skipping similar frames: hp_search_inner at line 27 (5 times)]\u001b[0m\n",
      "Cell \u001b[0;32mIn[146], line 27\u001b[0m, in \u001b[0;36mhp_search_inner\u001b[0;34m(hp_dict, fn, out_df, pbar, **kwargs)\u001b[0m\n\u001b[1;32m     25\u001b[0m kwargs[final_hp_key] \u001b[38;5;241m=\u001b[39m hp_val\n\u001b[1;32m     26\u001b[0m \u001b[38;5;28;01mtry\u001b[39;00m:\n\u001b[0;32m---> 27\u001b[0m     hp_dfs\u001b[38;5;241m.\u001b[39mappend(\u001b[43mhp_search_inner\u001b[49m\u001b[43m(\u001b[49m\u001b[43mnew_dict\u001b[49m\u001b[43m,\u001b[49m\u001b[43m \u001b[49m\u001b[43mfn\u001b[49m\u001b[43m,\u001b[49m\u001b[43m \u001b[49m\u001b[43mout_df\u001b[49m\u001b[43m,\u001b[49m\u001b[43m \u001b[49m\u001b[43mpbar\u001b[49m\u001b[43m,\u001b[49m\u001b[43m \u001b[49m\u001b[38;5;241;43m*\u001b[39;49m\u001b[38;5;241;43m*\u001b[39;49m\u001b[43mkwargs\u001b[49m\u001b[43m)\u001b[49m)\n\u001b[1;32m     28\u001b[0m \u001b[38;5;28;01mexcept\u001b[39;00m \u001b[38;5;167;01mException\u001b[39;00m \u001b[38;5;28;01mas\u001b[39;00m e:\n\u001b[1;32m     29\u001b[0m     warnings\u001b[38;5;241m.\u001b[39mwarn(\u001b[38;5;124mf\u001b[39m\u001b[38;5;124m\"\u001b[39m\u001b[38;5;132;01m{\u001b[39;00mkwargs\u001b[38;5;132;01m}\u001b[39;00m\u001b[38;5;124m failed.\u001b[39m\u001b[38;5;124m\"\u001b[39m)\n",
      "Cell \u001b[0;32mIn[146], line 15\u001b[0m, in \u001b[0;36mhp_search_inner\u001b[0;34m(hp_dict, fn, out_df, pbar, **kwargs)\u001b[0m\n\u001b[1;32m     12\u001b[0m         \u001b[38;5;28;01mbreak\u001b[39;00m\n\u001b[1;32m     14\u001b[0m \u001b[38;5;28;01mif\u001b[39;00m \u001b[38;5;28mlen\u001b[39m(new_dict) \u001b[38;5;241m==\u001b[39m \u001b[38;5;241m0\u001b[39m \u001b[38;5;129;01mand\u001b[39;00m final_hp_key \u001b[38;5;129;01mis\u001b[39;00m \u001b[38;5;28;01mNone\u001b[39;00m:  \u001b[38;5;66;03m# base case??\u001b[39;00m\n\u001b[0;32m---> 15\u001b[0m     err, err_high, err_low, t_elapsed \u001b[38;5;241m=\u001b[39m \u001b[43mfn\u001b[49m\u001b[43m(\u001b[49m\u001b[38;5;241;43m*\u001b[39;49m\u001b[38;5;241;43m*\u001b[39;49m\u001b[43mkwargs\u001b[49m\u001b[43m)\u001b[49m\n\u001b[1;32m     16\u001b[0m     kwargs[\u001b[38;5;124m\"\u001b[39m\u001b[38;5;124merr\u001b[39m\u001b[38;5;124m\"\u001b[39m] \u001b[38;5;241m=\u001b[39m err\n\u001b[1;32m     17\u001b[0m     kwargs[\u001b[38;5;124m\"\u001b[39m\u001b[38;5;124merr_high\u001b[39m\u001b[38;5;124m\"\u001b[39m] \u001b[38;5;241m=\u001b[39m err_high\n",
      "Cell \u001b[0;32mIn[299], line 11\u001b[0m, in \u001b[0;36mgen_data_get_error\u001b[0;34m(n_train, n_reps, dtype, **model_hps)\u001b[0m\n\u001b[1;32m      9\u001b[0m     model_hps[\u001b[38;5;124m\"\u001b[39m\u001b[38;5;124mM\u001b[39m\u001b[38;5;124m\"\u001b[39m] \u001b[38;5;241m=\u001b[39m \u001b[38;5;28mint\u001b[39m(\u001b[38;5;241m5\u001b[39m \u001b[38;5;241m*\u001b[39m np\u001b[38;5;241m.\u001b[39msqrt(n_train))\n\u001b[1;32m     10\u001b[0m \u001b[38;5;28;01mif\u001b[39;00m \u001b[38;5;124m\"\u001b[39m\u001b[38;5;124mpenalty\u001b[39m\u001b[38;5;124m\"\u001b[39m \u001b[38;5;129;01min\u001b[39;00m model_hps:\n\u001b[0;32m---> 11\u001b[0m     model_hps[\u001b[38;5;124m\"\u001b[39m\u001b[38;5;124mpenalty\u001b[39m\u001b[38;5;124m\"\u001b[39m] \u001b[38;5;241m=\u001b[39m \u001b[38;5;241m1\u001b[39m \u001b[38;5;241m/\u001b[39m np\u001b[38;5;241m.\u001b[39msqrt(\u001b[43mn\u001b[49m)\n\u001b[1;32m     12\u001b[0m est \u001b[38;5;241m=\u001b[39m train_est(X_train, Y_train, \u001b[38;5;241m*\u001b[39m\u001b[38;5;241m*\u001b[39mmodel_hps)\n\u001b[1;32m     13\u001b[0m t_end \u001b[38;5;241m=\u001b[39m time\u001b[38;5;241m.\u001b[39mtime()\n",
      "\u001b[0;31mNameError\u001b[0m: name 'n' is not defined"
     ]
    }
   ],
   "source": [
    "pcr_n_df = hp_search(\n",
    "    pcr_hps_n, \n",
    "    gen_data_get_error,\n",
    "    pd.DataFrame()\n",
    ")\n",
    "pcr_n_df[\"sigma\"] = pcr_n_df[\"kernel\"].apply(lambda r: r.sigma.item())\n",
    "pcr_n_df = pcr_n_df.drop(columns=[\"kernel\"])\n",
    "pcr_n_df.to_csv(pcr_n_df_path, index=False)\n",
    "print(f\"Saved experiment statistics at {pcr_n_df_path}\")"
   ]
  },
  {
   "cell_type": "code",
   "execution_count": 296,
   "id": "d6807d79",
   "metadata": {},
   "outputs": [
    {
     "name": "stdout",
     "output_type": "stream",
     "text": [
      "Plotting results from experiment at outputs/timings/l63_varym_varyn_5sqrtn.csv\n"
     ]
    },
    {
     "data": {
      "image/png": "[encoded data removed]",
      "text/plain": [
       "<Figure size 600x400 with 1 Axes>"
      ]
     },
     "metadata": {},
     "output_type": "display_data"
    }
   ],
   "source": [
    "print(f\"Plotting results from experiment at {pcr_n_df_path}\")\n",
    "plot_time = False\n",
    "plot_fit = True\n",
    "if plot_time:\n",
    "    fig, ax = plt.subplots(ncols=2, figsize=(8, 4))\n",
    "else:\n",
    "    fig, ax = plt.subplots(ncols=1, figsize=(6, 4))\n",
    "    ax = [ax]\n",
    "models = [\n",
    "#     (\"full_rrr\", \"FullRRR\", IBM_COLORS[3], \"-\", f\"outputs/timings/l63_varyn_m250_all.csv\"),\n",
    "    (\"rrr\", \"NysRRR\", IBM_COLORS[1], \"--\",      f\"outputs/timings/l63_varym_varyn_5sqrtn.csv\"),\n",
    "#     (\"full_pcr\", \"FullPCR\", IBM_COLORS[0], \"-\", f\"outputs/timings/l63_varyn_m250_all.csv\"),\n",
    "    (\"pcr\", \"NysPCR\", IBM_COLORS[2], \"--\",      f\"outputs/timings/l63_varym_varyn_5sqrtn.csv\"),\n",
    "    (\"krr\", \"NysKRR\", IBM_COLORS[0], \"--\",      f\"outputs/timings/l63_varym_varyn_5sqrtn.csv\"),\n",
    "]\n",
    "\n",
    "for kind, lbl, c, ls, path in models:\n",
    "    df = pd.read_csv(path)\n",
    "    # Error\n",
    "    ax[0].plot(\n",
    "        df[df[\"kind\"] == kind][\"n_train\"],\n",
    "        df[df[\"kind\"] == kind][\"err\"], label=lbl, \n",
    "        c=c, marker='o', lw=2, linestyle=ls\n",
    "    )\n",
    "    ax[0].fill_between(\n",
    "        df[df[\"kind\"] == kind][\"n_train\"],\n",
    "        df[df[\"kind\"] == kind][\"err_low\"],\n",
    "        df[df[\"kind\"] == kind][\"err_high\"],\n",
    "        color=c, alpha=0.3,\n",
    "    )\n",
    "    if plot_fit:\n",
    "        fitx = np.linspace(100, ax[0].get_xlim()[1], 1000)\n",
    "#         coefs = np.polyfit(df[df[\"kind\"] == kind][\"err\"], 1 / np.sqrt(df[df[\"kind\"] == kind][\"n_train\"]), deg=1)\n",
    "#         print(df[df[\"kind\"] == kind][\"err\"])\n",
    "#         print(1 / np.sqrt(df[df[\"kind\"] == kind][\"n_train\"]))\n",
    "#         print(coefs)\n",
    "        ax[0].plot(fitx, 9.5 / np.sqrt(fitx) + 0.52)\n",
    "    if plot_time:\n",
    "        ax[1].plot(\n",
    "            df[df[\"kind\"] == kind][\"n_train\"],\n",
    "            df[df[\"kind\"] == kind][\"time\"], \n",
    "            c=c, marker='o', lw=2, linestyle=ls\n",
    "        )\n",
    "\n",
    "ax[0].set_xlabel('Number of samples')\n",
    "ax[0].set_ylabel(\"nRMSE\")\n",
    "ax[0].set_xscale('log')\n",
    "# ax[0].set_xlim(100, 10000)\n",
    "\n",
    "if plot_time:\n",
    "    ax[1].set_xlabel('Number of samples')\n",
    "    ax[1].set_ylabel('Time (s)')\n",
    "    ax[1].set_xscale('log')\n",
    "    ax[1].set_yscale('log')\n",
    "    ax[1].set_xlim(100, 10000)\n",
    "    ax[1].set_yticks([1e-2, 1e-1, 1, 1e1, 1e2])\n",
    "\n",
    "ax[0].set_ylim([0, 2.0])\n",
    "\n",
    "ax[0].grid()\n",
    "# fig.legend(ncols=len(models), loc='upper center', bbox_to_anchor=(0.5, 1))\n",
    "ax[0].legend(loc='best')\n",
    "fig.tight_layout()\n",
    "# fig.subplots_adjust(top=0.88)\n",
    "fig.savefig(pcr_n_df_path.with_suffix('.png'), dpi=300)"
   ]
  },
  {
   "cell_type": "code",
   "execution_count": 231,
   "id": "f6d94d70",
   "metadata": {},
   "outputs": [
    {
     "name": "stdout",
     "output_type": "stream",
     "text": [
      "coefs=array([0.98773111, 0.0083463 ])\n"
     ]
    }
   ],
   "source": [
    "x = np.array([1, 2, 3, 4, 5, 6, 7, 8, 9, 10, 11, 12, 13])\n",
    "y = 1 / np.sqrt(x) + np.random.randn(len(x)) * 0.01\n",
    "coefs = np.polyfit(y, 1 / np.sqrt(x), deg=1)\n",
    "print(f\"{coefs=}\")"
   ]
  },
  {
   "cell_type": "code",
   "execution_count": 225,
   "id": "f9761bec",
   "metadata": {},
   "outputs": [],
   "source": [
    "# y ~ a / sqrt(x) + b\n",
    "# y ~ c * x**2 + d * x + e\n",
    "\n",
    "# y - b ~ a / sqrt(x)\n",
    "# (y - b)**2 ~ a**2 / x\n",
    "# x ~ [a / (y-b)]**2 = a ** 2 / (y**2 - 2by + b ** 2) = (a / y) ** 2\n",
    "# sqrt(x) ~ a / (y - b)"
   ]
  },
  {
   "cell_type": "code",
   "execution_count": 226,
   "id": "2a156f3d",
   "metadata": {},
   "outputs": [
    {
     "data": {
      "text/plain": [
       "[<matplotlib.lines.Line2D at 0x7fc5e4dc8490>]"
      ]
     },
     "execution_count": 226,
     "metadata": {},
     "output_type": "execute_result"
    },
    {
     "data": {
      "image/png": "[encoded data removed]",
      "text/plain": [
       "<Figure size 640x480 with 1 Axes>"
      ]
     },
     "metadata": {},
     "output_type": "display_data"
    }
   ],
   "source": [
    "fig, ax = plt.subplots()\n",
    "ax.scatter(x, y)\n",
    "ax.plot(np.linspace(1, 13, 100), (coefs[0] / np.sqrt(np.linspace(1, 13, 100)) + coefs[1]))"
   ]
  },
  {
   "cell_type": "code",
   "execution_count": 276,
   "id": "0b4a9dbb",
   "metadata": {},
   "outputs": [
    {
     "data": {
      "text/plain": [
       "[<matplotlib.lines.Line2D at 0x7fc5e3141d50>]"
      ]
     },
     "execution_count": 276,
     "metadata": {},
     "output_type": "execute_result"
    },
    {
     "data": {
      "image/png": "[encoded data removed]",
      "text/plain": [
       "<Figure size 640x480 with 1 Axes>"
      ]
     },
     "metadata": {},
     "output_type": "display_data"
    }
   ],
   "source": [
    "fitx = np.linspace(100, 60_000, 100)\n",
    "coefs = np.polyfit(\n",
    "    df[df[\"kind\"] == kind][\"err\"], \n",
    "    1 / np.sqrt(df[df[\"kind\"] == kind][\"n_train\"]),\n",
    "    deg=1\n",
    ")\n",
    "# print(df[df[\"kind\"] == kind][\"err\"])\n",
    "# print(1 / np.sqrt(df[df[\"kind\"] == kind][\"n_train\"]))\n",
    "# print(coefs)\n",
    "fig, ax = plt.subplots()\n",
    "ax.scatter(\n",
    "    df[df[\"kind\"] == kind][\"n_train\"], \n",
    "    df[df[\"kind\"] == kind][\"err\"]\n",
    ")\n",
    "ax.plot(fitx, 2/(fitx ** (1/2))+0.7)#(13 / (1 * np.sqrt(fitx))) + 0.7)"
   ]
  },
  {
   "cell_type": "code",
   "execution_count": 277,
   "id": "d98fe95f",
   "metadata": {},
   "outputs": [
    {
     "data": {
      "text/plain": [
       "array([ 0.08593261, -0.05943817])"
      ]
     },
     "execution_count": 277,
     "metadata": {},
     "output_type": "execute_result"
    }
   ],
   "source": [
    "coefs"
   ]
  },
  {
   "cell_type": "code",
   "execution_count": 281,
   "id": "917acc50",
   "metadata": {},
   "outputs": [
    {
     "data": {
      "text/plain": [
       "0.008"
      ]
     },
     "execution_count": 281,
     "metadata": {},
     "output_type": "execute_result"
    }
   ],
   "source": [
    "0.08 / np.sqrt(100)"
   ]
  },
  {
   "cell_type": "code",
   "execution_count": 282,
   "id": "96a9f9fc",
   "metadata": {},
   "outputs": [
    {
     "data": {
      "text/plain": [
       "40    0.100000\n",
       "41    0.084515\n",
       "42    0.071247\n",
       "43    0.060193\n",
       "44    0.050767\n",
       "45    0.042835\n",
       "46    0.036155\n",
       "47    0.030500\n",
       "48    0.025743\n",
       "49    0.021724\n",
       "50    0.018331\n",
       "51    0.015471\n",
       "52    0.013055\n",
       "53    0.011018\n",
       "54    0.009299\n",
       "55    0.007848\n",
       "56    0.006623\n",
       "57    0.005589\n",
       "58    0.004717\n",
       "59    0.003981\n",
       "Name: n_train, dtype: float64"
      ]
     },
     "execution_count": 282,
     "metadata": {},
     "output_type": "execute_result"
    }
   ],
   "source": [
    "1 / np.sqrt(df[df[\"kind\"] == kind][\"n_train\"])"
   ]
  },
  {
   "cell_type": "code",
   "execution_count": null,
   "id": "44a6e9ce",
   "metadata": {},
   "outputs": [],
   "source": []
  }
 ],
 "metadata": {
  "kernelspec": {
   "display_name": "Python 3 (ipykernel)",
   "language": "python",
   "name": "python3"
  },
  "language_info": {
   "codemirror_mode": {
    "name": "ipython",
    "version": 3
   },
   "file_extension": ".py",
   "mimetype": "text/x-python",
   "name": "python",
   "nbconvert_exporter": "python",
   "pygments_lexer": "ipython3",
   "version": "3.10.10"
  },
  "toc": {
   "base_numbering": 1,
   "nav_menu": {},
   "number_sections": true,
   "sideBar": true,
   "skip_h1_title": false,
   "title_cell": "Table of Contents",
   "title_sidebar": "Contents",
   "toc_cell": false,
   "toc_position": {},
   "toc_section_display": true,
   "toc_window_display": false
  }
 },
 "nbformat": 4,
 "nbformat_minor": 5
}
